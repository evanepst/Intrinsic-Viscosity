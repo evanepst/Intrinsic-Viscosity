{
 "cells": [
  {
   "cell_type": "markdown",
   "metadata": {
    "colab_type": "text",
    "id": "kKNCd8q_oIdk"
   },
   "source": [
    "# Determining Concentration-Dependent Viscosity Behavior Using Intrinsic Viscosity"
   ]
  },
  {
   "cell_type": "markdown",
   "metadata": {
    "colab_type": "text",
    "id": "Dl-mQcM4oIdn"
   },
   "source": [
    "### 1. Import Statements\n",
    "\n",
    "This cell must be executed at the beginning of every run."
   ]
  },
  {
   "cell_type": "code",
   "execution_count": null,
   "metadata": {
    "colab": {},
    "colab_type": "code",
    "id": "uPBQlPy2oIdn"
   },
   "outputs": [],
   "source": [
    "import matplotlib.pyplot as plt\n",
    "import numpy as np\n",
    "import pandas as pd\n",
    "import warnings\n",
    "import math\n",
    "import sklearn.linear_model as sklm\n",
    "import random\n",
    "import itertools\n",
    "import scipy\n",
    "\n",
    "from matplotlib.animation import FuncAnimation\n",
    "from numpy.polynomial.polynomial import polyfit\n",
    "from scipy.optimize import curve_fit\n",
    "from itertools import chain\n",
    "from prettytable import PrettyTable"
   ]
  },
  {
   "cell_type": "markdown",
   "metadata": {
    "colab_type": "text",
    "id": "By3t4PpWoQVB"
   },
   "source": [
    "### 2. Connect your Google Drive\n",
    "\n",
    "Run the segment below and follow the instructions it gives you. This will allow you to access files in your Google Drive, where you should store the excel file that contains your data."
   ]
  },
  {
   "cell_type": "code",
   "execution_count": null,
   "metadata": {
    "colab": {},
    "colab_type": "code",
    "id": "aZggoU5coKO1"
   },
   "outputs": [],
   "source": [
    "from google.colab import drive\n",
    "drive.mount('/content/drive')"
   ]
  },
  {
   "cell_type": "markdown",
   "metadata": {
    "colab_type": "text",
    "id": "x8MzRAvLoIdr"
   },
   "source": [
    "### 3. Importing Viscosity Data\n",
    "\n",
    "This cell imports viscosity data from an excel spreadsheet. Replace the part between the quotes with the path to the excel file. Do NOT remove the r in front of the quotes.\n",
    "\n",
    "The notebook requires that the data be formatted in a specific way:\n",
    "\n",
    "<pre>\n",
    "Molecule Name | Buffer Name\n",
    "  C (mg/mL)   |    V (cP)\n",
    "     ###      |     ###\n",
    "</pre>\n",
    "\n",
    "The \"C\" and \"V\" must actually be a cell with just those letters in it. It signals to the notebook that the data in the column is either concentration data or viscosity data.\n",
    "\n",
    "It does not matter whether the concentration data is ascending/descending/random order, as long as it lines up with the corresponding viscosity data.\n",
    "\n",
    "One of the data points MUST be a measurement of buffer viscosity, which should be entered as a concentration of 0.'"
   ]
  },
  {
   "cell_type": "code",
   "execution_count": null,
   "metadata": {
    "colab": {},
    "colab_type": "code",
    "id": "ikfsUyhdoIdr"
   },
   "outputs": [],
   "source": [
    "curves = pd.read_excel(r'C:\\Users\\eepstein\\Documents\\Curves.xlsx')"
   ]
  },
  {
   "cell_type": "markdown",
   "metadata": {
    "colab_type": "text",
    "id": "jpejnMh9oIdu"
   },
   "source": [
    "### 4. Methods\n",
    "\n",
    "Defines several of the methods used later on in the notebook. Nothing to change here, needs to be executed as is at the beginning of each run"
   ]
  },
  {
   "cell_type": "code",
   "execution_count": null,
   "metadata": {
    "colab": {},
    "colab_type": "code",
    "id": "eRsfUIq-oIdv"
   },
   "outputs": [],
   "source": [
    "#Calculates the reduced chi-squared statistic for a fit and a set of experimental data. This will be used to assess\n",
    "#the validty of both the experimental fit and the model\n",
    "def stats(y_exp,y_model):\n",
    "    y_exp = np.asarray(y_exp) #experimental y-values\n",
    "    y_model = np.asarray(y_model) #modeled y-values\n",
    "    \n",
    "    var = np.var(y_exp) #variance within the experimental values\n",
    "\n",
    "    chi_squared = np.sum(((y_exp-y_model)**2)/(var**2))\n",
    "    dof = len(y_exp) - 3\n",
    "    \n",
    "    return(chi_squared/dof)\n",
    "\n",
    "#Creates a linear fit for the x and y data inputted. -Only used if the robust fit doesn't work-\n",
    "def fit(x,y,title,legend,Print = True):\n",
    "    \n",
    "    #Uses a pre-established method for fitting the data\n",
    "    fit = np.polyfit(x,y,1)\n",
    "    \n",
    "    #plots the intrinsic viscosity graph unless Print is answered as False\n",
    "    if(Print):\n",
    "        plt.rcParams[\"figure.figsize\"] = [12,9]\n",
    "        plt.rcParams.update({'font.size': 22})\n",
    "        plt.scatter(x,y)\n",
    "        c = np.linspace(0,30)\n",
    "        plt.plot(c, np.poly1d(fit)(c),label=legend)\n",
    "        plt.ylabel(\"Viscosity\")\n",
    "        plt.xlabel(\"Concentration (mg/mL)\")\n",
    "        plt.xlim(0,50)\n",
    "        plt.title(title)\n",
    "        plt.legend()\n",
    "    \n",
    "    return fit;\n",
    "\n",
    "#Creates a robust fit for the x and y data inputted.\n",
    "def fit_rob(x,y,title,legend,Print = True):\n",
    "    x = np.array(x)\n",
    "    \n",
    "    xt = x.reshape(-1,1)\n",
    "    \n",
    "    robreg = sklm.HuberRegressor()\n",
    "    rfit = robreg.fit(xt,y)\n",
    "    \n",
    "    c = np.linspace(0,30)\n",
    "    y2 = robreg.predict(c.reshape(-1,1))\n",
    "        \n",
    "    #Plots the intrinsic viscosity graph if Print = False\n",
    "    if(Print):\n",
    "        plt.rcParams[\"figure.figsize\"] = [12,9]\n",
    "        plt.rcParams.update({'font.size': 22})\n",
    "        plt.scatter(x,y)\n",
    "        plt.ylabel(\"Viscosity\")\n",
    "        plt.xlabel(\"Concentration (mg/mL)\")\n",
    "\n",
    "        plt.plot(c,y2,'--',label=legend) \n",
    "        plt.xlim(0,30)\n",
    "        plt.title(title)\n",
    "        plt.legend()\n",
    "    \n",
    "    return(robreg.intercept_)\n",
    "\n",
    "#Calculates the viscosity for a given concentrations.\n",
    "#c is concentration, solvisc is the solvent viscosity, y is the intrinsic viscosity, x is a fitting parameter\n",
    "def model(c,solvisc,x,y):\n",
    "    return solvisc*np.exp(y*c/(1-x*c))\n",
    "\n",
    "#Calculates the concentration corresponding to a given viscosity.\n",
    "#v is viscosity, solvisc is the solvent viscosity, y is the intrinsic viscosity, x is a fitting parameter\n",
    "def model_inv(v,solvisc,x,y):\n",
    "    ln = math.log(v/solvisc)\n",
    "    c = (ln/y)/(1+(x/y)*ln)\n",
    "    return c\n",
    "\n",
    "#Creates a summarizing table of all curves\n",
    "def tabulate(allcurves, rank=True):\n",
    "    raw_dict = {\"int_visc\":[],\"model_10cp\":[],\"exp_10cp\":[],\"model_150\":[],\"exp_150\":[],\"model_15cp\":[],\n",
    "                \"exp_15cp\":[],\"model_175\":[], \"exp_175\": [],\"model_200\":[],\"exp_200\":[]}\n",
    "\n",
    "    for x in allcurves:\n",
    "        #Add a dictionary of molecules to intrinsic viscosities\n",
    "        raw_dict[\"int_visc\"].append({\"{} in {}\".format(x.molecule,x.buffer) : x.intrinsic_visc})\n",
    "\n",
    "        #Add a dictionary of molecules to the concentration at which they hit 10cP, according to the Mooney model\n",
    "        raw_dict[\"model_10cp\"].append({\"{} in {}\".format(x.molecule,x.buffer) : x.c10_model})\n",
    "\n",
    "        #Add a dictionary of molecules to the concentration at which they hit 10cP, according to the experimental data\n",
    "        raw_dict[\"exp_10cp\"].append({\"{} in {}\".format(x.molecule,x.buffer) : x.c10_exp})    \n",
    "\n",
    "        #Add a dictionary of molecules to the viscosity at 150mg/mL, according to the Mooney model\n",
    "        raw_dict[\"model_150\"].append({\"{} in {}\".format(x.molecule,x.buffer) : x.model_150})\n",
    "\n",
    "        #Add a dictionary of molecules to the viscosity at 150mg/mL, according to the experimental data\n",
    "        raw_dict[\"exp_150\"].append({\"{} in {}\".format(x.molecule,x.buffer) : x.exp_150})\n",
    "        \n",
    "        #Add a dictionary of molecules to the concentration at which they hit 15cP, according to the Mooney model\n",
    "        raw_dict[\"model_15cp\"].append({\"{} in {}\".format(x.molecule,x.buffer) : x.c15_model})\n",
    "        \n",
    "        #Add a dictionary of molecules to the concentration at which they hit 15cP, according to the experimental data\n",
    "        raw_dict[\"exp_15cp\"].append({\"{} in {}\".format(x.molecule,x.buffer) : x.c15_exp})\n",
    "        \n",
    "        #Add a dictionary of molecules to the viscosity at 175mg/mL, according to the Mooney model\n",
    "        raw_dict[\"model_175\"].append({\"{} in {}\".format(x.molecule,x.buffer) : x.model_175})\n",
    "\n",
    "        #Add a dictionary of molecules to the viscosity at 175mg/mL, according to the experimental data\n",
    "        raw_dict[\"exp_175\"].append({\"{} in {}\".format(x.molecule,x.buffer) : x.exp_175})\n",
    "        \n",
    "        #Add a dictionary of molecules to the viscosity at 200mg/mL, according to the Mooney model\n",
    "        raw_dict[\"model_200\"].append({\"{} in {}\".format(x.molecule,x.buffer) : x.model_200})\n",
    "\n",
    "        #Add a dictionary of molecules to the viscosity at 200mg/mL, according to the experimental data\n",
    "        raw_dict[\"exp_200\"].append({\"{} in {}\".format(x.molecule,x.buffer) : x.exp_200})\n",
    "\n",
    "\n",
    "    rank_dict = dict()\n",
    "    mol_number = 0\n",
    "\n",
    "    for key,value in raw_dict.items():\n",
    "        values = []\n",
    "        for x in value:\n",
    "            for k,v in x.items():\n",
    "                values.append(v)\n",
    "        array = np.array(values)\n",
    "        temp = array.argsort()\n",
    "        ranks = np.empty_like(temp)\n",
    "        ranks[temp] = np.arange(len(array))\n",
    "        rank_dict[key] = ranks\n",
    "        mol_number = len(ranks)\n",
    "    \n",
    "    mol_features = []\n",
    "    \n",
    "    comp_dict = dict() \n",
    "\n",
    "    for x in range(mol_number):\n",
    "        mol_features.append([])\n",
    "\n",
    "    if(rank):\n",
    "        for key, value in rank_dict.items():\n",
    "            for i in range(mol_number):\n",
    "                mol_features[i].append(value[i])\n",
    "\n",
    "        i = 0        \n",
    "        for x in allcurves:\n",
    "            comp_dict[\"{} in {}\".format(x.molecule,x.buffer)] = mol_features[i]\n",
    "            i+=1\n",
    "    else:\n",
    "        for key, value in raw_dict.items():\n",
    "            for i in range(mol_number):\n",
    "                mol_features[i].append(round(np.array(list(value[i].values()))[0],4))\n",
    "                \n",
    "        i = 0        \n",
    "        for x in allcurves:\n",
    "            comp_dict[\"{} in {}\".format(x.molecule,x.buffer)] = mol_features[i]\n",
    "            i+=1\n",
    "\n",
    "    table = PrettyTable()\n",
    "    table.field_names = [\"\", \"Intrinsic Visc\", \"10cP (Model)\", \"10cP (Exp)\", \"150mg/mL (Model)\", \"150mg/mL (Exp)\"]\n",
    "    table.add_row([\"Best Value\",\"Lowest\",\"Highest\",\"Highest\",\"Lowest\",\"Lowest\"])\n",
    "    \n",
    "    table2 = PrettyTable()\n",
    "    table2.field_names = [\"\",\"15cp (Model)\",\"15cp (Exp)\",\"175mg/mL (Model)\", \"175mg/mL (Exp)\",\"200mg/mL (Model)\",\"200mg/mL (Exp)\"]\n",
    "    table2.add_row([\"Best Value\",\"Highest\",\"Highest\",\"Lowest\",\"Lowest\",\"Lowest\",\"Lowest\"])\n",
    "    \n",
    "    for key, value in comp_dict.items():\n",
    "            table.add_row([key, *value[:5]])\n",
    "            table2.add_row([key, *value[5:]])\n",
    "            \n",
    "    print(table)\n",
    "    print(table2)\n",
    "\n",
    "#A \"Curve\" class that contains all the important information contained within a viscosity curve    \n",
    "class Curve:\n",
    "    def __init__(self, molecule,buffer,concentrations,viscosities,Print = True):\n",
    "        \n",
    "        self.index_buffer = -1\n",
    "        \n",
    "        self.low_range_conc = []\n",
    "        self.low_range_visc = []\n",
    "            \n",
    "        for x in range(len(concentrations)):\n",
    "            if(int(concentrations[x]) == 0):\n",
    "                index_buffer = x\n",
    "            elif(int(concentrations[x]) <= 30 and int(concentrations[x]) >= 9):\n",
    "                self.low_range_conc.append(concentrations[x])\n",
    "                self.low_range_visc.append(viscosities[x])\n",
    "        \n",
    "        self.molecule = str(molecule)\n",
    "        self.buffer = str(buffer)\n",
    "        self.concentrations = np.array(concentrations)\n",
    "        self.viscosities = np.array(viscosities)\n",
    "        self.solvisc = self.viscosities[self.index_buffer]\n",
    "        self.max_conc = int(math.ceil(np.amax(self.concentrations) / 10.0)) * 10\n",
    "        \n",
    "        rel_visc = []\n",
    "        self.red_visc = []\n",
    "        self.log_rel_visc = []\n",
    "\n",
    "        length = len(self.low_range_conc)\n",
    "\n",
    "        for x in range(length):\n",
    "            rel_visc.append(self.low_range_visc[x]/self.solvisc)\n",
    "            self.red_visc.append((rel_visc[x]-1)/self.low_range_conc[x])\n",
    "            self.log_rel_visc.append(np.log(rel_visc[x])/self.low_range_conc[x])\n",
    "            \n",
    "        \n",
    "        if(len(self.low_range_visc)>=3):\n",
    "            try:\n",
    "                intrinsic_visc1 = fit_rob(self.low_range_conc,self.red_visc,\"{} in {}\".format(self.molecule,self.buffer),\"Reduced Viscosity\",Print=Print)\n",
    "                intrinsic_visc2 = fit_rob(self.low_range_conc,self.log_rel_visc,\"{} in {}\".format(self.molecule,self.buffer), \"Log(Relative Viscosity)\",Print=Print)\n",
    "                self.intrinsic_visc = (intrinsic_visc1+intrinsic_visc2)/2\n",
    "        \n",
    "            except Exception:\n",
    "                intrinsic_visc1 = fit(self.low_range_conc,self.red_visc,\"{} in {}\".format(self.molecule,self.buffer),\"Reduced Viscosity\")[1]\n",
    "                intrinsic_visc2 = fit(self.low_range_conc,self.log_rel_visc,\"{} in {}\".format(self.molecule,self.buffer), \"Log(Relative Viscosity)\")[1]\n",
    "                self.intrinsic_visc = (intrinsic_visc1+intrinsic_visc2)/2\n",
    "         \n",
    "        \n",
    "    \n",
    "    def __str__(self):\n",
    "        return \"{} {} {} {}\".format(self.molecule,self.buffer,self.concentrations,self.viscosities)\n",
    "    \n",
    "    #Plots the experimental data\n",
    "    def experimental(self):\n",
    "        plt.scatter(self.concentrations,self.viscosities, label=\"{} in {}\".format(self.molecule,self.buffer))\n",
    "        plt.legend(loc = 'upper left')\n",
    "        plt.ylabel(\"Viscosity (cP)\")\n",
    "        plt.xlabel(\"Concentration (mg/mL)\")\n",
    "        plt.rcParams.update({'font.size': 22})\n",
    "    \n",
    "    #Generates a best fit line for the viscosity curve\n",
    "    def generate_fit(self, toprint = False, error = False):\n",
    "        if(self.intrinsic_visc < 0.01):\n",
    "            epsilon = 0.0005 #variation allowed in the intrinsic viscosity during fitting\n",
    "        else:\n",
    "            epsilon = 0.01\n",
    "        \n",
    "        epsilon_solvisc = 0.01 #variation allowed in solvent viscosity during fitting\n",
    "        epsilon_packingparam = 0.0001 #variation allowed in packing parameter during fitting\n",
    "        \n",
    "        packingparam = 1/640\n",
    "        \n",
    "        init = [self.solvisc,packingparam,self.intrinsic_visc]\n",
    "        \n",
    "        self.fitvars, covar = curve_fit(model,self.concentrations,self.viscosities,bounds=((self.solvisc-epsilon_solvisc,packingparam-epsilon_packingparam,self.intrinsic_visc-epsilon), (self.solvisc+epsilon_solvisc,packingparam+epsilon_packingparam,self.intrinsic_visc+epsilon)))\n",
    "        \n",
    "        c = np.linspace(0,self.max_conc)\n",
    "        \n",
    "        if(toprint):\n",
    "            print(\"{} in {}:\".format(self.molecule,self.buffer))\n",
    "            print(\"Fit Solvent Viscosity: {}cP\\nFit Packing Param:{}\\nFit Intrinsic Viscosity: {}ml/mg\\n\".format(*self.fitvars))\n",
    "        if(error):        \n",
    "              y1 = 1.1*model(c,*self.fitvars)\n",
    "              y2 = 0.9*model(c,*self.fitvars)\n",
    "              y3 = 1.2*model(c,*self.fitvars)\n",
    "              y4 = 0.8*model(c,*self.fitvars)\n",
    "              plt.plot(c,y1,'r--',label=\"10% Error\")\n",
    "              plt.plot(c,y2,'r--')\n",
    "              plt.plot(c,y3,'y--',label=\"20% Error\")\n",
    "              plt.plot(c,y4,'y--')\n",
    "        \n",
    "        plt.plot(c,model(c,*self.fitvars),label=\"Fit: {} in {}\".format(self.molecule,self.buffer))\n",
    "        plt.legend(loc = 'upper left')\n",
    "        plt.ylabel(\"Viscosity (cP)\")\n",
    "        plt.xlabel(\"Concentration (mg/mL)\")\n",
    "        plt.rcParams[\"figure.figsize\"] = [12,9]\n",
    "        plt.rcParams.update({'font.size': 22})\n",
    "        \n",
    "        lim = max(self.viscosities) + 10\n",
    "        plt.ylim(0,lim)\n",
    "        \n",
    "        self.c10_exp = model_inv(10,*self.fitvars)\n",
    "        self.c15_exp = model_inv(15,*self.fitvars)\n",
    "        self.exp_150 = model(150,*self.fitvars)\n",
    "        self.exp_175 = model(175,*self.fitvars)\n",
    "        self.exp_200 = model(200,*self.fitvars)\n",
    "        \n",
    "    #Generates two types of models from the curve's data\n",
    "    def generate_model(self):\n",
    "        w1 = 640\n",
    "        w2 = 373\n",
    "        \n",
    "        c = np.linspace(0,self.max_conc)\n",
    "        v1 = self.solvisc*np.exp(((self.intrinsic_visc)*c)/(1-c/w1))\n",
    "        v2 = self.solvisc*np.exp(-(self.intrinsic_visc*w2)*np.log(1-c/w2))\n",
    "\n",
    "        mooney = plt.plot(c,v1, label=\"Mooney: {} in {}\".format(self.molecule,self.buffer))\n",
    "        krieger = plt.plot(c,v2, label=\"Krieger-Dougherty: {} in {}\".format(self.molecule,self.buffer))\n",
    "        \n",
    "        plt.legend()\n",
    "        plt.rcParams[\"figure.figsize\"] = [12,9]\n",
    "        plt.rcParams.update({'font.size': 22})\n",
    "        \n",
    "        plt.ylabel(\"Viscosity (cP)\")\n",
    "        plt.xlabel(\"Concentration (mg/mL)\")\n",
    "        lim = max(self.viscosities) + 10\n",
    "        plt.ylim(0,lim)\n",
    "        \n",
    "        x = 1/w1\n",
    "        self.c10_model = model_inv(10,self.solvisc,x,self.intrinsic_visc)\n",
    "        self.c15_model = model_inv(15,self.solvisc,x,self.intrinsic_visc)\n",
    "        self.model_150 = model(150,self.solvisc,x,self.intrinsic_visc)\n",
    "        self.model_175 = model(175,self.solvisc,x,self.intrinsic_visc)\n",
    "        self.model_200 = model(200,self.solvisc,x,self.intrinsic_visc)\n",
    "        \n",
    "        visc_exp = []\n",
    "\n",
    "        for x in range(len(self.concentrations)):\n",
    "            visc_exp.append(model(self.concentrations[x],self.solvisc,x,self.intrinsic_visc))\n",
    "        \n",
    "        return(v2)"
   ]
  },
  {
   "cell_type": "markdown",
   "metadata": {
    "colab_type": "text",
    "id": "papkHQfroIdx"
   },
   "source": [
    "### 5. Create Your Curves\n",
    "\n",
    "Creates a list containing the curve for every dataset in the excel file, called \"allcurves.\" Produces the plot from which the intrinsic viscosity is extracted for each dataset.\n",
    "\n",
    "If a data set is incomplete, the program will tell you so and there will be no attempt to generate a curve for that molecule/buffer combination - all the other curve objects will be generated normally."
   ]
  },
  {
   "cell_type": "code",
   "execution_count": null,
   "metadata": {
    "colab": {},
    "colab_type": "code",
    "id": "29-Y7B2OoIdy",
    "scrolled": false
   },
   "outputs": [],
   "source": [
    "warnings.simplefilter('ignore', np.RankWarning)\n",
    "\n",
    "curves_dictionary = {\n",
    "        \"Molecules\" : [],\n",
    "        \"Buffers\" : [],\n",
    "        \"Concentrations\" : [],\n",
    "        \"Viscosities\" : []\n",
    "    }\n",
    "\n",
    "for key, value in curves.iteritems():\n",
    "    if(~np.isnan(np.sum(value[1:]))):\n",
    "        if(str(value[0]) == \"C (mg/mL)\"):\n",
    "            curves_dictionary[\"Molecules\"].append(key)\n",
    "            curves_dictionary[\"Concentrations\"].append(np.asarray(value[1:]))\n",
    "        elif(str(value[0]) == \"V (cP)\"):\n",
    "            curves_dictionary[\"Buffers\"].append(key)\n",
    "            curves_dictionary[\"Viscosities\"].append(np.asarray(value[1:]))\n",
    "            \n",
    "allcurves = []\n",
    "\n",
    "for y in range(len(curves_dictionary[\"Buffers\"])):\n",
    "    concentrations = curves_dictionary[\"Concentrations\"][y]\n",
    "    concentrations = [x for x in concentrations if str(x) != 'nan']\n",
    "    \n",
    "    viscosities = curves_dictionary[\"Viscosities\"][y]\n",
    "    viscosities = [x for x in viscosities if str(x) != 'nan']\n",
    "\n",
    "    molecule = curves_dictionary[\"Molecules\"][y]\n",
    "    mol,per,num = molecule.partition(\".\")\n",
    "    \n",
    "    buffer = curves_dictionary[\"Buffers\"][y]\n",
    "    buf,per,num = buffer.partition(\".\")\n",
    "    \n",
    "    index_buffer = -1\n",
    "\n",
    "    for x in range(len(concentrations)):\n",
    "        if(int(concentrations[x]) == 0):\n",
    "            index_buffer = x\n",
    "\n",
    "    if(len(concentrations) != len(viscosities)):\n",
    "        print(\"Not a complete data set for {} in {}\".format(mol,buf))\n",
    "    elif(index_buffer == -1):\n",
    "        print(\"Please measure the viscosity of {} in {}\".format(mol,buf))\n",
    "    else:\n",
    "        curve = Curve(mol,buf,concentrations,viscosities)\n",
    "        allcurves.append(curve)\n",
    "        plt.figure()"
   ]
  },
  {
   "cell_type": "code",
   "execution_count": null,
   "metadata": {
    "colab": {},
    "colab_type": "code",
    "id": "jmAZkk2NoId2"
   },
   "outputs": [],
   "source": [
    "i = 0\n",
    "while i < len(allcurves):\n",
    "    x = allcurves[i]\n",
    "    if(len(x.low_range_visc)<3):\n",
    "        print(\"Removed {} in {} because there are not enough low concentrations measurements - Requires 3 data points\".format(x.molecule,x.buffer))\n",
    "        allcurves.remove(x)\n",
    "    else:\n",
    "        i += 1"
   ]
  },
  {
   "cell_type": "markdown",
   "metadata": {
    "colab_type": "text",
    "id": "3gynR8AaoId5"
   },
   "source": [
    "### 6. Calculate Huggins Constants\n",
    "\n",
    "Developped as an indicator of how good a solvent is for a particular polymer, the Huggins constant contains info about hydro- and thermo-dynamic interactions between coils in solution. There is not much literature on the correlation between the Huggins constant and behavior in proteins.\n",
    "\n",
    "https://www.eng.yale.edu/polymers/docs/classes/polyphys/lecture_notes/5/handout5_wsu3.html"
   ]
  },
  {
   "cell_type": "code",
   "execution_count": null,
   "metadata": {
    "colab": {},
    "colab_type": "code",
    "id": "JHf_c7XBoId5"
   },
   "outputs": [],
   "source": [
    "huggins = {}\n",
    "\n",
    "for x in allcurves:\n",
    "    slope = fit(x.concentrations,x.viscosities,\"\",\"\",Print=False)[0]\n",
    "    huggins[\"{} in {}\".format(x.molecule,x.buffer)] = slope/(x.intrinsic_visc**2)    \n",
    "    \n",
    "for key,value in huggins.items():\n",
    "    print(key,\":\",round(value,1))"
   ]
  },
  {
   "cell_type": "markdown",
   "metadata": {
    "colab_type": "text",
    "id": "jhChN3o3oId7"
   },
   "source": [
    "### 7. Tabulate Intrinsic Viscosities\n",
    "\n",
    "Tabulates the intrinsic viscosity for every single curve. "
   ]
  },
  {
   "cell_type": "code",
   "execution_count": null,
   "metadata": {
    "colab": {},
    "colab_type": "code",
    "id": "ozY98avgoId8"
   },
   "outputs": [],
   "source": [
    "for x in allcurves:\n",
    "    print(\"{} in {}\".format(x.molecule,x.buffer),\":\",x.intrinsic_visc, \"mL/mg\")"
   ]
  },
  {
   "cell_type": "markdown",
   "metadata": {
    "colab_type": "text",
    "id": "Uny4Z-PSoId-"
   },
   "source": [
    "### 8. Plot Experimental Data and/or Best Fit\n",
    "\n",
    "Plots the curve for EVERY dataset on the same plot. In order to hide either the fit curve or the experimental data, comment out the line by placing a # at the beginning of the line"
   ]
  },
  {
   "cell_type": "code",
   "execution_count": null,
   "metadata": {
    "colab": {},
    "colab_type": "code",
    "id": "LP1Hmo9aoId-",
    "scrolled": false
   },
   "outputs": [],
   "source": [
    "for x in allcurves:\n",
    "    x.generate_fit(True)\n",
    "    x.experimental()\n",
    "    plt.figure()"
   ]
  },
  {
   "cell_type": "markdown",
   "metadata": {
    "colab_type": "text",
    "id": "4d0lLy7VoIeE"
   },
   "source": [
    "### 9. Generate Model\n",
    "\n",
    "Generates two independent models, Mooney and Krieger-Dougherty, for EVERY dataset on one plot:"
   ]
  },
  {
   "cell_type": "code",
   "execution_count": null,
   "metadata": {
    "colab": {},
    "colab_type": "code",
    "id": "f_UIht5koIeF"
   },
   "outputs": [],
   "source": [
    "for x in allcurves:\n",
    "    x.generate_model()"
   ]
  },
  {
   "cell_type": "markdown",
   "metadata": {
    "colab_type": "text",
    "id": "4A0ny0XCoIeJ"
   },
   "source": [
    "### 10. Put It All Together\n",
    "\n",
    "Combines the model and experimental fit on one plot for each molecule/buffer combination individually"
   ]
  },
  {
   "cell_type": "code",
   "execution_count": null,
   "metadata": {
    "colab": {},
    "colab_type": "code",
    "id": "uwy86LYOoIeK",
    "scrolled": false
   },
   "outputs": [],
   "source": [
    "for x in allcurves:\n",
    "    x.generate_model()\n",
    "    x.generate_fit(error = False)\n",
    "    x.experimental()\n",
    "    plt.figure()"
   ]
  },
  {
   "cell_type": "markdown",
   "metadata": {
    "colab_type": "text",
    "id": "CxTkP4Z4oIeM"
   },
   "source": [
    "### 11. Ranking Molecules\n",
    "\n",
    "Produces two table to compare  the molecules based on several factors. The table can include raw data by setting rank=False, or can rank the molecules by setting rank=True.\n",
    "\n",
    "An additional row tells you whether the highest or lowest value is indicative of an inviscid molecule.\n",
    "\n",
    "<pre>\n",
    "Intrinsic Visc: The intrinsic viscosity for the molecule in mL/mg\n",
    "10cP or 15cP: The concentration in mg/mL of antibody correlating to the listed viscosity\n",
    "150mg/mL or 175mg/mL or 200mg/mL: The predicted viscosity in cP at the listed concentration\n",
    "</pre>"
   ]
  },
  {
   "cell_type": "code",
   "execution_count": null,
   "metadata": {
    "colab": {},
    "colab_type": "code",
    "id": "awiaO3kRoIeN"
   },
   "outputs": [],
   "source": [
    "tabulate(allcurves, rank=False)"
   ]
  },
  {
   "cell_type": "markdown",
   "metadata": {
    "colab_type": "text",
    "id": "1tiwIIhgoIeS"
   },
   "source": [
    "### 12. Sensitivity Testing\n",
    "\n",
    "The NeoVISC has an inherent variability of 10%. This section examines the ability of the modelling system to work with error at or below that level. By contrast, the standard deviation in initium measurements is 0.16-0.26%. You can test the impact either of those error values, or any other value, on the model's predictive ability by changing the error value in the first line."
   ]
  },
  {
   "cell_type": "code",
   "execution_count": null,
   "metadata": {
    "colab": {},
    "colab_type": "code",
    "id": "lBajTi5toIeS"
   },
   "outputs": [],
   "source": [
    "error = 0.02\n",
    "experimental = True\n",
    "\n",
    "c = np.linspace(0,250)\n",
    "\n",
    "for x in allcurves:\n",
    "    \n",
    "    real_visc = model(c,*x.fitvars)\n",
    "    og_model = model(c,x.solvisc,(1/640),x.intrinsic_visc)\n",
    "    plus10 = (1.1)*model(c,*x.fitvars)\n",
    "    minus10 = (0.9)*model(c,*x.fitvars)\n",
    "    \n",
    "    plt.plot(c,og_model,label=\"Model\")\n",
    "    \n",
    "    if(experimental):\n",
    "        plt.plot(c,real_visc,label=\"Experimental\")\n",
    "        plt.plot(c,plus10,'r--',label=\"+10%\")\n",
    "        plt.plot(c,minus10, 'r--',label=\"-10%\")\n",
    "\n",
    "    plt.legend()\n",
    "    \n",
    "    for i in range(100):\n",
    "        randvisc = []\n",
    "\n",
    "        upper = int((1+error)*10000)\n",
    "        lower = int((1-error)*10000)\n",
    "\n",
    "        for y in range(len(x.viscosities)):\n",
    "            randvisc.append((float(random.randrange(lower,upper))/10000)*x.viscosities[y])\n",
    "\n",
    "        randomname = \"Random:\" + x.molecule\n",
    "        rand_curve = Curve(randomname,x.buffer,x.concentrations,randvisc,Print = False)\n",
    "\n",
    "\n",
    "        rand_model = model(c,rand_curve.solvisc,(1/640),rand_curve.intrinsic_visc)\n",
    "        plt.plot(c,rand_model,linestyle=(0, (3, 10, 1, 10, 1, 10)),color=\"black\",alpha=1)\n",
    "    \n",
    "    plt.figure()"
   ]
  }
 ],
 "metadata": {
  "colab": {
   "name": "Copy of Intrinsic Viscosity - Batch Measurement.ipynb",
   "provenance": [],
   "toc_visible": true,
   "version": "0.3.2"
  },
  "kernelspec": {
   "display_name": "Python 3",
   "language": "python",
   "name": "python3"
  },
  "language_info": {
   "codemirror_mode": {
    "name": "ipython",
    "version": 3
   },
   "file_extension": ".py",
   "mimetype": "text/x-python",
   "name": "python",
   "nbconvert_exporter": "python",
   "pygments_lexer": "ipython3",
   "version": "3.7.3"
  }
 },
 "nbformat": 4,
 "nbformat_minor": 1
}
